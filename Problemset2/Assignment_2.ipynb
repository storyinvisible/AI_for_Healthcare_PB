{
 "cells": [
  {
   "cell_type": "code",
   "execution_count": 18,
   "metadata": {},
   "outputs": [],
   "source": [
    "import pandas as pd\n",
    "import numpy as np\n",
    "import os,sys\n",
    "from tensorflow import keras\n",
    "import matplotlib.pyplot as plt\n",
    "import pandas as pd\n",
    "from datetime import datetime\n",
    "import tensorflow as tf\n",
    "from sklearn.model_selection import train_test_split\n",
    "from tensorflow.keras import Sequential"
   ]
  },
  {
   "cell_type": "code",
   "execution_count": 2,
   "metadata": {},
   "outputs": [],
   "source": [
    "#Parameters\n"
   ]
  },
  {
   "cell_type": "markdown",
   "metadata": {},
   "source": [
    "# Understanding the data"
   ]
  },
  {
   "cell_type": "code",
   "execution_count": 3,
   "metadata": {},
   "outputs": [
    {
     "data": {
      "text/html": [
       "<div>\n",
       "<style scoped>\n",
       "    .dataframe tbody tr th:only-of-type {\n",
       "        vertical-align: middle;\n",
       "    }\n",
       "\n",
       "    .dataframe tbody tr th {\n",
       "        vertical-align: top;\n",
       "    }\n",
       "\n",
       "    .dataframe thead th {\n",
       "        text-align: right;\n",
       "    }\n",
       "</style>\n",
       "<table border=\"1\" class=\"dataframe\">\n",
       "  <thead>\n",
       "    <tr style=\"text-align: right;\">\n",
       "      <th></th>\n",
       "      <th>RecID</th>\n",
       "      <th>ParentHDeviceUploadsID</th>\n",
       "      <th>PtID</th>\n",
       "      <th>SiteID</th>\n",
       "      <th>DeviceDtTmDaysFromEnroll</th>\n",
       "      <th>DeviceTm</th>\n",
       "      <th>DexInternalDtTmDaysFromEnroll</th>\n",
       "      <th>DexInternalTm</th>\n",
       "      <th>RecordType</th>\n",
       "      <th>GlucoseValue</th>\n",
       "    </tr>\n",
       "  </thead>\n",
       "  <tbody>\n",
       "    <tr>\n",
       "      <th>0</th>\n",
       "      <td>15047224</td>\n",
       "      <td>4110</td>\n",
       "      <td>14</td>\n",
       "      <td>9</td>\n",
       "      <td>6</td>\n",
       "      <td>10:56:34</td>\n",
       "      <td>6</td>\n",
       "      <td>18:56:35</td>\n",
       "      <td>CGM</td>\n",
       "      <td>76</td>\n",
       "    </tr>\n",
       "    <tr>\n",
       "      <th>1</th>\n",
       "      <td>15047225</td>\n",
       "      <td>4110</td>\n",
       "      <td>14</td>\n",
       "      <td>9</td>\n",
       "      <td>6</td>\n",
       "      <td>10:51:34</td>\n",
       "      <td>6</td>\n",
       "      <td>18:51:35</td>\n",
       "      <td>CGM</td>\n",
       "      <td>75</td>\n",
       "    </tr>\n",
       "    <tr>\n",
       "      <th>2</th>\n",
       "      <td>15047226</td>\n",
       "      <td>4110</td>\n",
       "      <td>14</td>\n",
       "      <td>9</td>\n",
       "      <td>6</td>\n",
       "      <td>10:46:34</td>\n",
       "      <td>6</td>\n",
       "      <td>18:46:35</td>\n",
       "      <td>CGM</td>\n",
       "      <td>74</td>\n",
       "    </tr>\n",
       "    <tr>\n",
       "      <th>3</th>\n",
       "      <td>15047227</td>\n",
       "      <td>4110</td>\n",
       "      <td>14</td>\n",
       "      <td>9</td>\n",
       "      <td>6</td>\n",
       "      <td>10:41:34</td>\n",
       "      <td>6</td>\n",
       "      <td>18:41:35</td>\n",
       "      <td>CGM</td>\n",
       "      <td>72</td>\n",
       "    </tr>\n",
       "    <tr>\n",
       "      <th>4</th>\n",
       "      <td>15047228</td>\n",
       "      <td>4110</td>\n",
       "      <td>14</td>\n",
       "      <td>9</td>\n",
       "      <td>6</td>\n",
       "      <td>10:36:34</td>\n",
       "      <td>6</td>\n",
       "      <td>18:36:35</td>\n",
       "      <td>CGM</td>\n",
       "      <td>71</td>\n",
       "    </tr>\n",
       "    <tr>\n",
       "      <th>5</th>\n",
       "      <td>15047229</td>\n",
       "      <td>4110</td>\n",
       "      <td>14</td>\n",
       "      <td>9</td>\n",
       "      <td>6</td>\n",
       "      <td>10:31:34</td>\n",
       "      <td>6</td>\n",
       "      <td>18:31:35</td>\n",
       "      <td>CGM</td>\n",
       "      <td>67</td>\n",
       "    </tr>\n",
       "    <tr>\n",
       "      <th>6</th>\n",
       "      <td>15047230</td>\n",
       "      <td>4110</td>\n",
       "      <td>14</td>\n",
       "      <td>9</td>\n",
       "      <td>6</td>\n",
       "      <td>10:26:34</td>\n",
       "      <td>6</td>\n",
       "      <td>18:26:35</td>\n",
       "      <td>CGM</td>\n",
       "      <td>64</td>\n",
       "    </tr>\n",
       "    <tr>\n",
       "      <th>7</th>\n",
       "      <td>15047231</td>\n",
       "      <td>4110</td>\n",
       "      <td>14</td>\n",
       "      <td>9</td>\n",
       "      <td>6</td>\n",
       "      <td>10:21:34</td>\n",
       "      <td>6</td>\n",
       "      <td>18:21:35</td>\n",
       "      <td>CGM</td>\n",
       "      <td>60</td>\n",
       "    </tr>\n",
       "    <tr>\n",
       "      <th>8</th>\n",
       "      <td>15047232</td>\n",
       "      <td>4110</td>\n",
       "      <td>14</td>\n",
       "      <td>9</td>\n",
       "      <td>6</td>\n",
       "      <td>10:16:34</td>\n",
       "      <td>6</td>\n",
       "      <td>18:16:35</td>\n",
       "      <td>CGM</td>\n",
       "      <td>57</td>\n",
       "    </tr>\n",
       "    <tr>\n",
       "      <th>9</th>\n",
       "      <td>15047233</td>\n",
       "      <td>4110</td>\n",
       "      <td>14</td>\n",
       "      <td>9</td>\n",
       "      <td>6</td>\n",
       "      <td>10:11:34</td>\n",
       "      <td>6</td>\n",
       "      <td>18:11:35</td>\n",
       "      <td>CGM</td>\n",
       "      <td>55</td>\n",
       "    </tr>\n",
       "  </tbody>\n",
       "</table>\n",
       "</div>"
      ],
      "text/plain": [
       "      RecID  ParentHDeviceUploadsID  PtID  SiteID  DeviceDtTmDaysFromEnroll  \\\n",
       "0  15047224                    4110    14       9                         6   \n",
       "1  15047225                    4110    14       9                         6   \n",
       "2  15047226                    4110    14       9                         6   \n",
       "3  15047227                    4110    14       9                         6   \n",
       "4  15047228                    4110    14       9                         6   \n",
       "5  15047229                    4110    14       9                         6   \n",
       "6  15047230                    4110    14       9                         6   \n",
       "7  15047231                    4110    14       9                         6   \n",
       "8  15047232                    4110    14       9                         6   \n",
       "9  15047233                    4110    14       9                         6   \n",
       "\n",
       "   DeviceTm  DexInternalDtTmDaysFromEnroll DexInternalTm RecordType  \\\n",
       "0  10:56:34                              6      18:56:35        CGM   \n",
       "1  10:51:34                              6      18:51:35        CGM   \n",
       "2  10:46:34                              6      18:46:35        CGM   \n",
       "3  10:41:34                              6      18:41:35        CGM   \n",
       "4  10:36:34                              6      18:36:35        CGM   \n",
       "5  10:31:34                              6      18:31:35        CGM   \n",
       "6  10:26:34                              6      18:26:35        CGM   \n",
       "7  10:21:34                              6      18:21:35        CGM   \n",
       "8  10:16:34                              6      18:16:35        CGM   \n",
       "9  10:11:34                              6      18:11:35        CGM   \n",
       "\n",
       "   GlucoseValue  \n",
       "0            76  \n",
       "1            75  \n",
       "2            74  \n",
       "3            72  \n",
       "4            71  \n",
       "5            67  \n",
       "6            64  \n",
       "7            60  \n",
       "8            57  \n",
       "9            55  "
      ]
     },
     "execution_count": 3,
     "metadata": {},
     "output_type": "execute_result"
    }
   ],
   "source": [
    "df=pd.read_csv(\"HDeviceCGM.csv\")\n",
    "window_size=4\n",
    "df.head(10)"
   ]
  },
  {
   "cell_type": "markdown",
   "metadata": {},
   "source": [
    "Checkpoint1:Study the training data-set and answer the following \n",
    "    1) How many sets of continuous training data sets do you have available \n",
    "    2) Thecount of samples points per training data sets. Segments the data-sets into training and testing."
   ]
  },
  {
   "cell_type": "code",
   "execution_count": 4,
   "metadata": {},
   "outputs": [
    {
     "name": "stdout",
     "output_type": "stream",
     "text": [
      "398\n"
     ]
    }
   ],
   "source": [
    "s1 = '10:33:26'\n",
    "s2 = '11:15:49' # for example\n",
    "FMT = '%H:%M:%S'\n",
    "start=0\n",
    "data_sets_number=1\n",
    "data_sets_count={}\n",
    "max_value=max(df[\"GlucoseValue\"]) # use to normalize the input and output when training \n",
    "print(max_value)\n",
    "for i in range(len(df[\"DeviceTm\"])-2):\n",
    "    s1=df[\"DeviceTm\"][i]\n",
    "    s2=df[\"DeviceTm\"][i+1]\n",
    "    device_check= df[\"DeviceDtTmDaysFromEnroll\"][i]!=df[\"DeviceDtTmDaysFromEnroll\"][i+1]\n",
    "    tdelta = datetime.strptime(s1, FMT) - datetime.strptime(s2, FMT)\n",
    "    if (tdelta.seconds//60)%60 > 15 and device_check: # if the time difference is more than 15 minutes and devices and change number\n",
    "        if i-start >window_size: # The window size that we want to set is 4, thus entries less than 4 to be removed\n",
    "            data_sets_count[data_sets_number]=i+1-start\n",
    "            df_new=df.iloc[start:i][[\"DeviceTm\",\"GlucoseValue\"]]\n",
    "            df_new.to_csv(\"./data_sets/{}.csv\".format(data_sets_number))\n",
    "            data_sets_number+=1\n",
    "            start= i+1\n",
    "        "
   ]
  },
  {
   "cell_type": "code",
   "execution_count": 5,
   "metadata": {},
   "outputs": [
    {
     "name": "stdout",
     "output_type": "stream",
     "text": [
      "The number of sets of  54\n"
     ]
    }
   ],
   "source": [
    "print(\"The number of sets of \" ,data_sets_number)"
   ]
  },
  {
   "cell_type": "code",
   "execution_count": 6,
   "metadata": {},
   "outputs": [
    {
     "name": "stdout",
     "output_type": "stream",
     "text": [
      "The number of sample points in each sets\n",
      " Sets : 1   Count :   85\n",
      " Sets : 2   Count :   36\n",
      " Sets : 3   Count :   60\n",
      " Sets : 4   Count :   8\n",
      " Sets : 5   Count :   64\n",
      " Sets : 6   Count :   22\n",
      " Sets : 7   Count :   49\n",
      " Sets : 8   Count :   31\n",
      " Sets : 9   Count :   26\n",
      " Sets : 10   Count :   115\n",
      " Sets : 11   Count :   47\n",
      " Sets : 12   Count :   57\n",
      " Sets : 13   Count :   39\n",
      " Sets : 14   Count :   32\n",
      " Sets : 15   Count :   9\n",
      " Sets : 16   Count :   16\n",
      " Sets : 17   Count :   15\n",
      " Sets : 18   Count :   13\n",
      " Sets : 19   Count :   6\n",
      " Sets : 20   Count :   14\n",
      " Sets : 21   Count :   57\n",
      " Sets : 22   Count :   73\n",
      " Sets : 23   Count :   25\n",
      " Sets : 24   Count :   115\n",
      " Sets : 25   Count :   67\n",
      " Sets : 26   Count :   89\n",
      " Sets : 27   Count :   19\n",
      " Sets : 28   Count :   132\n",
      " Sets : 29   Count :   111\n",
      " Sets : 30   Count :   96\n",
      " Sets : 31   Count :   96\n",
      " Sets : 32   Count :   15\n",
      " Sets : 33   Count :   6\n",
      " Sets : 34   Count :   16\n",
      " Sets : 35   Count :   83\n",
      " Sets : 36   Count :   11\n",
      " Sets : 37   Count :   66\n",
      " Sets : 38   Count :   99\n",
      " Sets : 39   Count :   160\n",
      " Sets : 40   Count :   32\n",
      " Sets : 41   Count :   19\n",
      " Sets : 42   Count :   23\n",
      " Sets : 43   Count :   35\n",
      " Sets : 44   Count :   61\n",
      " Sets : 45   Count :   153\n",
      " Sets : 46   Count :   96\n",
      " Sets : 47   Count :   33\n",
      " Sets : 48   Count :   23\n",
      " Sets : 49   Count :   75\n",
      " Sets : 50   Count :   96\n",
      " Sets : 51   Count :   46\n",
      " Sets : 52   Count :   78\n",
      " Sets : 53   Count :   61\n"
     ]
    }
   ],
   "source": [
    "print(\"The number of sample points in each sets\" )\n",
    "values=[]\n",
    "for sets in data_sets_count:\n",
    "    print(\" Sets : {}   Count :   {}\".format(sets, data_sets_count[sets]))\n",
    "    if data_sets_count[sets] <window_size:\n",
    "        pass\n",
    "#         del data_sets_count[sets]\n",
    "    else:\n",
    "        values.append(data_sets_count[sets])\n",
    "#         print(\" Sets : {}   Count :   {}\".format(sets, data_sets_count[sets]))\n",
    "        "
   ]
  },
  {
   "cell_type": "code",
   "execution_count": 7,
   "metadata": {},
   "outputs": [
    {
     "data": {
      "image/png": "[encoded data removed]",
      "text/plain": [
       "<Figure size 432x288 with 1 Axes>"
      ]
     },
     "metadata": {
      "needs_background": "light"
     },
     "output_type": "display_data"
    }
   ],
   "source": [
    "plt.hist(values ,bins=10)\n",
    "plt.show()"
   ]
  },
  {
   "cell_type": "markdown",
   "metadata": {},
   "source": [
    "# Data Pre-Processing"
   ]
  },
  {
   "cell_type": "code",
   "execution_count": 8,
   "metadata": {},
   "outputs": [],
   "source": [
    "\n",
    "files =os.listdir(\"data_sets/\")\n",
    "input_matrix=[]\n",
    "output_value=[]\n",
    "for file in files:\n",
    "    df_new= pd.read_csv(\"data_sets/\"+file)\n",
    "    for i in range(len(df_new[\"GlucoseValue\"])-window_size-1):\n",
    "        input_matrix.append(df_new[\"GlucoseValue\"][i:i+window_size].to_list())\n",
    "#       \n",
    "        output_value.append(df_new[\"GlucoseValue\"][i+window_size+1])\n",
    "#         break\n",
    "def reshape(input_tensor):\n",
    "    input_tensor=tf.convert_to_tensor(input_tensor)\n",
    "    batch_shape,window_size= input_tensor.shape\n",
    "    return tf.reshape(input_tensor, (batch_shape,1,window_size))/max_value\n",
    "# input_matrix=reshape(input_matrix)\n"
   ]
  },
  {
   "cell_type": "markdown",
   "metadata": {},
   "source": [
    "Checkpoint2:Display the dimensions for your pre-processed data and explain how it the window size is incorporated into this structure."
   ]
  },
  {
   "cell_type": "code",
   "execution_count": 10,
   "metadata": {},
   "outputs": [],
   "source": [
    "input_train, input_test, output_train, output_test=train_test_split(input_matrix, output_value, test_size=0.20, shuffle=False)\n"
   ]
  },
  {
   "cell_type": "code",
   "execution_count": null,
   "metadata": {},
   "outputs": [],
   "source": []
  },
  {
   "cell_type": "code",
   "execution_count": 11,
   "metadata": {},
   "outputs": [],
   "source": [
    "input_train=reshape(input_train)"
   ]
  },
  {
   "cell_type": "code",
   "execution_count": 12,
   "metadata": {},
   "outputs": [],
   "source": [
    "input_test=reshape(input_test)"
   ]
  },
  {
   "cell_type": "code",
   "execution_count": 13,
   "metadata": {},
   "outputs": [],
   "source": [
    "output_train=tf.convert_to_tensor(output_train)/max_value\n",
    "output_test=tf.convert_to_tensor(output_test)/max_value"
   ]
  },
  {
   "cell_type": "code",
   "execution_count": 19,
   "metadata": {},
   "outputs": [
    {
     "name": "stdout",
     "output_type": "stream",
     "text": [
      "(40, 1, 4)\n",
      "tf.Tensor(\n",
      "[0.16834171 0.16080402 0.15075377 0.14321608 0.13819095 0.13567839\n",
      " 0.13819095 0.13819095 0.13819095 0.14070352 0.15326633 0.15577889\n",
      " 0.15577889 0.16080402 0.16331658 0.16080402 0.16582915 0.16582915\n",
      " 0.16834171 0.17336683 0.1758794  0.17085427 0.17085427 0.18090452\n",
      " 0.18844221 0.19346734 0.20351759 0.20854271 0.2160804  0.22613065\n",
      " 0.22110553 0.22864322 0.23115578 0.24120603 0.25125628 0.25376884\n",
      " 0.26633166 0.26130653 0.25376884 0.26884422], shape=(40,), dtype=float64)\n"
     ]
    }
   ],
   "source": [
    "datasets_train=tf.data.Dataset.from_tensor_slices((input_train, output_train))\n",
    "datasets_test=tf.data.Dataset.from_tensor_slices((input_test, output_test)).batch(1)\n",
    "datasets_input_train=tf.data.Dataset.from_tensor_slices(input_train).batch(40)\n",
    "datasets_output_train=tf.data.Dataset.from_tensor_slices(output_train).batch(40)\n",
    "data_batched= datasets_train.batch(40)\n",
    "for i,j in data_batched:\n",
    "    print(i.shape)\n",
    "    print(j)\n",
    "    break"
   ]
  },
  {
   "cell_type": "markdown",
   "metadata": {},
   "source": [
    "Explanation ： From the above you can see that the input shape is the form of (Batch_size, 1 input_dimension). This is because LSTM cells takes in 3 dimensional input， with the first dimension is the batch_size. and the second dimension will be used as 1 as our input has only one dimension. The Last dimension is the size of our input. "
   ]
  },
  {
   "cell_type": "markdown",
   "metadata": {},
   "source": [
    "# Modelling And training"
   ]
  },
  {
   "cell_type": "markdown",
   "metadata": {},
   "source": [
    "Checkpoint 4: Select the correct Loss Function and optimiser and explain the reason for your choice"
   ]
  },
  {
   "cell_type": "markdown",
   "metadata": {},
   "source": [
    "The loss function used Mean square Error. This loss function is able to penalize the the difference betweent the predicted and actual value by measuring the distance in between them.  It is less sensitive to outliers and erros in the data   \n",
    "\n",
    "The optimizer used is Adam, Adam is normalized optimzier that use momentum and do elementwise optimization. This allows the optimizer to converge faster and more robust. "
   ]
  },
  {
   "cell_type": "code",
   "execution_count": 15,
   "metadata": {},
   "outputs": [],
   "source": [
    "# ts_input=tf.keras.Input(shape=(1,window_size))\n",
    "# x= tf.keras.layers.LSTM(4)(ts_input)\n",
    "\n",
    "# model= tf.keras.Model(inputs= ts_input,outputs=x)\n",
    "model= Sequential([\n",
    "    tf.keras.Input(shape=(1,window_size)),\n",
    "    tf.keras.layers.LSTM(1),\n",
    "    \n",
    "])\n",
    "model.compile(optimizer=tf.keras.optimizers.Adam(learning_rate=0.01),\n",
    "              loss=tf.keras.losses.MeanSquaredError(),\n",
    "              metrics=['mse'])"
   ]
  },
  {
   "cell_type": "markdown",
   "metadata": {},
   "source": [
    "Checkpoint 5: Graph and display the training loss of the model."
   ]
  },
  {
   "cell_type": "code",
   "execution_count": 16,
   "metadata": {},
   "outputs": [
    {
     "name": "stdout",
     "output_type": "stream",
     "text": [
      "Model: \"sequential\"\n",
      "_________________________________________________________________\n",
      "Layer (type)                 Output Shape              Param #   \n",
      "=================================================================\n",
      "lstm_1 (LSTM)                (None, 1)                 24        \n",
      "=================================================================\n",
      "Total params: 24\n",
      "Trainable params: 24\n",
      "Non-trainable params: 0\n",
      "_________________________________________________________________\n"
     ]
    }
   ],
   "source": [
    "# model.build(input_shape=(3179,1,4))\n",
    "model.summary()"
   ]
  },
  {
   "cell_type": "code",
   "execution_count": 26,
   "metadata": {},
   "outputs": [
    {
     "name": "stdout",
     "output_type": "stream",
     "text": [
      "Epoch 1/30\n",
      "95/95 [==============================] - 2s 7ms/step - loss: 0.0472 - mse: 0.0472\n",
      "Epoch 2/30\n",
      "95/95 [==============================] - 1s 6ms/step - loss: 0.0037 - mse: 0.0037\n",
      "Epoch 3/30\n",
      "95/95 [==============================] - 1s 6ms/step - loss: 0.0029 - mse: 0.0029\n",
      "Epoch 4/30\n",
      "95/95 [==============================] - 1s 6ms/step - loss: 0.0024 - mse: 0.0024\n",
      "Epoch 5/30\n",
      "95/95 [==============================] - 1s 6ms/step - loss: 0.0022 - mse: 0.0022\n",
      "Epoch 6/30\n",
      "95/95 [==============================] - 1s 6ms/step - loss: 0.0020 - mse: 0.0020\n",
      "Epoch 7/30\n",
      "95/95 [==============================] - 1s 6ms/step - loss: 0.0020 - mse: 0.0020\n",
      "Epoch 8/30\n",
      "95/95 [==============================] - 1s 6ms/step - loss: 0.0019 - mse: 0.0019\n",
      "Epoch 9/30\n",
      "95/95 [==============================] - 1s 8ms/step - loss: 0.0019 - mse: 0.0019\n",
      "Epoch 10/30\n",
      "95/95 [==============================] - 1s 6ms/step - loss: 0.0019 - mse: 0.0019\n",
      "Epoch 11/30\n",
      "95/95 [==============================] - 1s 6ms/step - loss: 0.0018 - mse: 0.0018\n",
      "Epoch 12/30\n",
      "95/95 [==============================] - 1s 6ms/step - loss: 0.0018 - mse: 0.0018\n",
      "Epoch 13/30\n",
      "95/95 [==============================] - 1s 6ms/step - loss: 0.0018 - mse: 0.0018\n",
      "Epoch 14/30\n",
      "95/95 [==============================] - 1s 7ms/step - loss: 0.0017 - mse: 0.0017\n",
      "Epoch 15/30\n",
      "95/95 [==============================] - 1s 6ms/step - loss: 0.0017 - mse: 0.0017\n",
      "Epoch 16/30\n",
      "95/95 [==============================] - 1s 6ms/step - loss: 0.0017 - mse: 0.0017\n",
      "Epoch 17/30\n",
      "95/95 [==============================] - 1s 7ms/step - loss: 0.0016 - mse: 0.0016\n",
      "Epoch 18/30\n",
      "95/95 [==============================] - 1s 7ms/step - loss: 0.0016 - mse: 0.0016\n",
      "Epoch 19/30\n",
      "95/95 [==============================] - 1s 6ms/step - loss: 0.0016 - mse: 0.0016\n",
      "Epoch 20/30\n",
      "95/95 [==============================] - 1s 6ms/step - loss: 0.0016 - mse: 0.0016\n",
      "Epoch 21/30\n",
      "95/95 [==============================] - 1s 6ms/step - loss: 0.0015 - mse: 0.0015\n",
      "Epoch 22/30\n",
      "95/95 [==============================] - 1s 6ms/step - loss: 0.0015 - mse: 0.0015\n",
      "Epoch 23/30\n",
      "95/95 [==============================] - 1s 6ms/step - loss: 0.0015 - mse: 0.0015\n",
      "Epoch 24/30\n",
      "95/95 [==============================] - 1s 6ms/step - loss: 0.0015 - mse: 0.0015\n",
      "Epoch 25/30\n",
      "95/95 [==============================] - 1s 6ms/step - loss: 0.0015 - mse: 0.0015\n",
      "Epoch 26/30\n",
      "95/95 [==============================] - 1s 6ms/step - loss: 0.0014 - mse: 0.0014\n",
      "Epoch 27/30\n",
      "95/95 [==============================] - 1s 7ms/step - loss: 0.0014 - mse: 0.0014\n",
      "Epoch 28/30\n",
      "95/95 [==============================] - 1s 6ms/step - loss: 0.0014 - mse: 0.0014\n",
      "Epoch 29/30\n",
      "95/95 [==============================] - 1s 6ms/step - loss: 0.0014 - mse: 0.0014\n",
      "Epoch 30/30\n",
      "95/95 [==============================] - 1s 6ms/step - loss: 0.0014 - mse: 0.0014\n"
     ]
    },
    {
     "data": {
      "text/plain": [
       "<tensorflow.python.keras.callbacks.History at 0x235cbbcf390>"
      ]
     },
     "execution_count": 26,
     "metadata": {},
     "output_type": "execute_result"
    }
   ],
   "source": [
    "model.fit(data_batched, epochs=30)"
   ]
  },
  {
   "cell_type": "code",
   "execution_count": 50,
   "metadata": {},
   "outputs": [],
   "source": [
    "actual=[]\n",
    "pred=[]\n",
    "for i,j in datasets_test:    \n",
    "    predict = model(i)\n",
    "    actual.append(j[0]*max_value)\n",
    "    pred.append(predict[0][0]*max_value)\n",
    "    \n",
    "#     actual.append(j)"
   ]
  },
  {
   "cell_type": "markdown",
   "metadata": {},
   "source": [
    "# Validation"
   ]
  },
  {
   "cell_type": "markdown",
   "metadata": {},
   "source": [
    "Checkpoint 6: Graph the remaining instances and plot them (Provide the\n",
    "true data and the validated data on the same graph), display the mean loss for\n",
    "each of the instance."
   ]
  },
  {
   "cell_type": "code",
   "execution_count": 51,
   "metadata": {},
   "outputs": [
    {
     "data": {
      "text/plain": [
       "[<matplotlib.lines.Line2D at 0x234c82bd748>]"
      ]
     },
     "execution_count": 51,
     "metadata": {},
     "output_type": "execute_result"
    },
    {
     "data": {
      "image/png": "[encoded data removed]",
      "text/plain": [
       "<Figure size 432x288 with 1 Axes>"
      ]
     },
     "metadata": {
      "needs_background": "light"
     },
     "output_type": "display_data"
    }
   ],
   "source": [
    "plt.plot(actual)\n",
    "plt.plot(pred)"
   ]
  },
  {
   "cell_type": "markdown",
   "metadata": {},
   "source": [
    "# Optimisation"
   ]
  },
  {
   "cell_type": "markdown",
   "metadata": {},
   "source": [
    "Checkpoint 7: Write a short report presenting your analysis on the optimal hyper-parameter of choice. You may include the necessary graphs or printout to explain your optimal hyper-parameter of choice."
   ]
  },
  {
   "cell_type": "markdown",
   "metadata": {},
   "source": [
    "In the hyper parameter tuning, I have choosen normalized the input by its maximum value . The allows better convert of the the losses. I choose the learning rate to be started at 0.01. This allows the model to pick up the momentum in learning very qucikly \n"
   ]
  }
 ],
 "metadata": {
  "kernelspec": {
   "display_name": "Python 3",
   "language": "python",
   "name": "python3"
  },
  "language_info": {
   "codemirror_mode": {
    "name": "ipython",
    "version": 3
   },
   "file_extension": ".py",
   "mimetype": "text/x-python",
   "name": "python",
   "nbconvert_exporter": "python",
   "pygments_lexer": "ipython3",
   "version": "3.6.8"
  }
 },
 "nbformat": 4,
 "nbformat_minor": 4
}
