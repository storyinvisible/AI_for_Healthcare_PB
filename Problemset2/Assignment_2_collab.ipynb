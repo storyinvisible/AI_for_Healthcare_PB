{
  "nbformat": 4,
  "nbformat_minor": 0,
  "metadata": {
    "kernelspec": {
      "display_name": "Python 3",
      "language": "python",
      "name": "python3"
    },
    "language_info": {
      "codemirror_mode": {
        "name": "ipython",
        "version": 3
      },
      "file_extension": ".py",
      "mimetype": "text/x-python",
      "name": "python",
      "nbconvert_exporter": "python",
      "pygments_lexer": "ipython3",
      "version": "3.6.8"
    },
    "colab": {
      "name": "Assignment_2-Student_version.ipynb",
      "provenance": [],
      "collapsed_sections": [
        "AB03U89KaUjg",
        "FXAypuVZaUji"
      ],
      "toc_visible": true
    }
  },
  "cells": [
    {
      "cell_type": "code",
      "metadata": {
        "colab": {
          "base_uri": "https://localhost:8080/"
        },
        "id": "vJ6nKAefaoho",
        "outputId": "354533a8-dcc8-4e7d-f9ee-6ccc46551d75"
      },
      "source": [
        "from google.colab import drive\n",
        "drive.mount('/content/drive')"
      ],
      "execution_count": 1,
      "outputs": [
        {
          "output_type": "stream",
          "text": [
            "Mounted at /content/drive\n"
          ],
          "name": "stdout"
        }
      ]
    },
    {
      "cell_type": "code",
      "metadata": {
        "colab": {
          "base_uri": "https://localhost:8080/"
        },
        "id": "XFpCEsU_ahO8",
        "outputId": "1b178746-4cef-4bf6-be3d-7acb50413fe6"
      },
      "source": [
        "%cd /content/drive/MyDrive/SUTD/Term_7_ AI_healthcare/Problem_Set_2"
      ],
      "execution_count": 2,
      "outputs": [
        {
          "output_type": "stream",
          "text": [
            "/content/drive/MyDrive/SUTD/Term_7_ AI_healthcare/Problem_Set_2\n"
          ],
          "name": "stdout"
        }
      ]
    },
    {
      "cell_type": "code",
      "metadata": {
        "id": "tTiaSbkSaUjC"
      },
      "source": [
        "import pandas as pd\n",
        "import numpy as np\n",
        "import os,sys\n",
        "from tensorflow import keras\n",
        "import matplotlib.pyplot as plt\n",
        "import pandas as pd\n",
        "from datetime import datetime\n",
        "import tensorflow as tf\n",
        "from sklearn.model_selection import train_test_split\n",
        "from tensorflow.keras import Sequential"
      ],
      "execution_count": 3,
      "outputs": []
    },
    {
      "cell_type": "code",
      "metadata": {
        "colab": {
          "base_uri": "https://localhost:8080/"
        },
        "id": "siL2eL3haUjO",
        "outputId": "f9ba7541-8dbf-462b-d7f0-3894f8f4afcd"
      },
      "source": [
        "#Parameters\n",
        "!ls"
      ],
      "execution_count": 5,
      "outputs": [
        {
          "output_type": "stream",
          "text": [
            "'01_116_Healthcare_and_AI_Lab_2__Time_based_prediction (1).pdf'\n",
            " Assignment_2-Student_version.ipynb\n",
            " data_sets\n",
            " HDeviceCGM.csv\n"
          ],
          "name": "stdout"
        }
      ]
    },
    {
      "cell_type": "markdown",
      "metadata": {
        "id": "9iGXIVZhaUjQ"
      },
      "source": [
        "# Understanding the data"
      ]
    },
    {
      "cell_type": "code",
      "metadata": {
        "colab": {
          "base_uri": "https://localhost:8080/",
          "height": 363
        },
        "id": "TcuYu75KaUjQ",
        "outputId": "ea9b1d92-52ba-450e-d6d8-8cf19e519306"
      },
      "source": [
        "df=pd.read_csv(\"HDeviceCGM.csv\")\n",
        "window_size=10\n",
        "df.head(10)"
      ],
      "execution_count": 6,
      "outputs": [
        {
          "output_type": "execute_result",
          "data": {
            "text/html": [
              "<div>\n",
              "<style scoped>\n",
              "    .dataframe tbody tr th:only-of-type {\n",
              "        vertical-align: middle;\n",
              "    }\n",
              "\n",
              "    .dataframe tbody tr th {\n",
              "        vertical-align: top;\n",
              "    }\n",
              "\n",
              "    .dataframe thead th {\n",
              "        text-align: right;\n",
              "    }\n",
              "</style>\n",
              "<table border=\"1\" class=\"dataframe\">\n",
              "  <thead>\n",
              "    <tr style=\"text-align: right;\">\n",
              "      <th></th>\n",
              "      <th>RecID</th>\n",
              "      <th>ParentHDeviceUploadsID</th>\n",
              "      <th>PtID</th>\n",
              "      <th>SiteID</th>\n",
              "      <th>DeviceDtTmDaysFromEnroll</th>\n",
              "      <th>DeviceTm</th>\n",
              "      <th>DexInternalDtTmDaysFromEnroll</th>\n",
              "      <th>DexInternalTm</th>\n",
              "      <th>RecordType</th>\n",
              "      <th>GlucoseValue</th>\n",
              "    </tr>\n",
              "  </thead>\n",
              "  <tbody>\n",
              "    <tr>\n",
              "      <th>0</th>\n",
              "      <td>15047224</td>\n",
              "      <td>4110</td>\n",
              "      <td>14</td>\n",
              "      <td>9</td>\n",
              "      <td>6</td>\n",
              "      <td>10:56:34</td>\n",
              "      <td>6</td>\n",
              "      <td>18:56:35</td>\n",
              "      <td>CGM</td>\n",
              "      <td>76</td>\n",
              "    </tr>\n",
              "    <tr>\n",
              "      <th>1</th>\n",
              "      <td>15047225</td>\n",
              "      <td>4110</td>\n",
              "      <td>14</td>\n",
              "      <td>9</td>\n",
              "      <td>6</td>\n",
              "      <td>10:51:34</td>\n",
              "      <td>6</td>\n",
              "      <td>18:51:35</td>\n",
              "      <td>CGM</td>\n",
              "      <td>75</td>\n",
              "    </tr>\n",
              "    <tr>\n",
              "      <th>2</th>\n",
              "      <td>15047226</td>\n",
              "      <td>4110</td>\n",
              "      <td>14</td>\n",
              "      <td>9</td>\n",
              "      <td>6</td>\n",
              "      <td>10:46:34</td>\n",
              "      <td>6</td>\n",
              "      <td>18:46:35</td>\n",
              "      <td>CGM</td>\n",
              "      <td>74</td>\n",
              "    </tr>\n",
              "    <tr>\n",
              "      <th>3</th>\n",
              "      <td>15047227</td>\n",
              "      <td>4110</td>\n",
              "      <td>14</td>\n",
              "      <td>9</td>\n",
              "      <td>6</td>\n",
              "      <td>10:41:34</td>\n",
              "      <td>6</td>\n",
              "      <td>18:41:35</td>\n",
              "      <td>CGM</td>\n",
              "      <td>72</td>\n",
              "    </tr>\n",
              "    <tr>\n",
              "      <th>4</th>\n",
              "      <td>15047228</td>\n",
              "      <td>4110</td>\n",
              "      <td>14</td>\n",
              "      <td>9</td>\n",
              "      <td>6</td>\n",
              "      <td>10:36:34</td>\n",
              "      <td>6</td>\n",
              "      <td>18:36:35</td>\n",
              "      <td>CGM</td>\n",
              "      <td>71</td>\n",
              "    </tr>\n",
              "    <tr>\n",
              "      <th>5</th>\n",
              "      <td>15047229</td>\n",
              "      <td>4110</td>\n",
              "      <td>14</td>\n",
              "      <td>9</td>\n",
              "      <td>6</td>\n",
              "      <td>10:31:34</td>\n",
              "      <td>6</td>\n",
              "      <td>18:31:35</td>\n",
              "      <td>CGM</td>\n",
              "      <td>67</td>\n",
              "    </tr>\n",
              "    <tr>\n",
              "      <th>6</th>\n",
              "      <td>15047230</td>\n",
              "      <td>4110</td>\n",
              "      <td>14</td>\n",
              "      <td>9</td>\n",
              "      <td>6</td>\n",
              "      <td>10:26:34</td>\n",
              "      <td>6</td>\n",
              "      <td>18:26:35</td>\n",
              "      <td>CGM</td>\n",
              "      <td>64</td>\n",
              "    </tr>\n",
              "    <tr>\n",
              "      <th>7</th>\n",
              "      <td>15047231</td>\n",
              "      <td>4110</td>\n",
              "      <td>14</td>\n",
              "      <td>9</td>\n",
              "      <td>6</td>\n",
              "      <td>10:21:34</td>\n",
              "      <td>6</td>\n",
              "      <td>18:21:35</td>\n",
              "      <td>CGM</td>\n",
              "      <td>60</td>\n",
              "    </tr>\n",
              "    <tr>\n",
              "      <th>8</th>\n",
              "      <td>15047232</td>\n",
              "      <td>4110</td>\n",
              "      <td>14</td>\n",
              "      <td>9</td>\n",
              "      <td>6</td>\n",
              "      <td>10:16:34</td>\n",
              "      <td>6</td>\n",
              "      <td>18:16:35</td>\n",
              "      <td>CGM</td>\n",
              "      <td>57</td>\n",
              "    </tr>\n",
              "    <tr>\n",
              "      <th>9</th>\n",
              "      <td>15047233</td>\n",
              "      <td>4110</td>\n",
              "      <td>14</td>\n",
              "      <td>9</td>\n",
              "      <td>6</td>\n",
              "      <td>10:11:34</td>\n",
              "      <td>6</td>\n",
              "      <td>18:11:35</td>\n",
              "      <td>CGM</td>\n",
              "      <td>55</td>\n",
              "    </tr>\n",
              "  </tbody>\n",
              "</table>\n",
              "</div>"
            ],
            "text/plain": [
              "      RecID  ParentHDeviceUploadsID  ...  RecordType  GlucoseValue\n",
              "0  15047224                    4110  ...         CGM            76\n",
              "1  15047225                    4110  ...         CGM            75\n",
              "2  15047226                    4110  ...         CGM            74\n",
              "3  15047227                    4110  ...         CGM            72\n",
              "4  15047228                    4110  ...         CGM            71\n",
              "5  15047229                    4110  ...         CGM            67\n",
              "6  15047230                    4110  ...         CGM            64\n",
              "7  15047231                    4110  ...         CGM            60\n",
              "8  15047232                    4110  ...         CGM            57\n",
              "9  15047233                    4110  ...         CGM            55\n",
              "\n",
              "[10 rows x 10 columns]"
            ]
          },
          "metadata": {
            "tags": []
          },
          "execution_count": 6
        }
      ]
    },
    {
      "cell_type": "markdown",
      "metadata": {
        "id": "vEvFp304aUjS"
      },
      "source": [
        "Checkpoint1:Study the training data-set and answer the following \n",
        "    1) How many sets of continuous training data sets do you have available \n",
        "    2) Thecount of samples points per training data sets. Segments the data-sets into training and testing."
      ]
    },
    {
      "cell_type": "code",
      "metadata": {
        "id": "gSIRDHttaUjT"
      },
      "source": [
        "s1 = '10:33:26'\n",
        "s2 = '11:15:49' # for example\n",
        "FMT = '%H:%M:%S'\n",
        "start=0\n",
        "data_sets_number=1\n",
        "data_sets_count={}\n",
        "for i in range(len(df[\"DeviceTm\"])-2):\n",
        "    s1=df[\"DeviceTm\"][i]\n",
        "    s2=df[\"DeviceTm\"][i+1]\n",
        "    device_check= df[\"DeviceDtTmDaysFromEnroll\"][i]!=df[\"DeviceDtTmDaysFromEnroll\"][i+1]\n",
        "    tdelta = datetime.strptime(s1, FMT) - datetime.strptime(s2, FMT)\n",
        "    if (tdelta.seconds//60)%60 > 15 and device_check: # if the time difference is more than 15 minutes and devices and change number\n",
        "        if i-start >window_size: # The window size that we want to set is 4, thus entries less than 4 to be removed\n",
        "            data_sets_count[data_sets_number]=i+1-start\n",
        "            df_new=df.iloc[start:i][[\"DeviceTm\",\"GlucoseValue\"]]\n",
        "            df_new.to_csv(\"./data_sets/{}.csv\".format(data_sets_number))\n",
        "            data_sets_number+=1\n",
        "            start= i+1\n",
        "        "
      ],
      "execution_count": 8,
      "outputs": []
    },
    {
      "cell_type": "code",
      "metadata": {
        "colab": {
          "base_uri": "https://localhost:8080/"
        },
        "id": "FvtabNroaUjV",
        "outputId": "88e7631f-6c6b-4e95-aaf1-06d4b3779d37"
      },
      "source": [
        "print(\"The number of sets of \" ,data_sets_number)"
      ],
      "execution_count": 9,
      "outputs": [
        {
          "output_type": "stream",
          "text": [
            "The number of sets of  50\n"
          ],
          "name": "stdout"
        }
      ]
    },
    {
      "cell_type": "code",
      "metadata": {
        "colab": {
          "base_uri": "https://localhost:8080/"
        },
        "id": "GoqNB0uAaUjW",
        "outputId": "5a067576-d7ea-4481-c814-ab6ba2ba2454"
      },
      "source": [
        "print(\"The number of sample points in each sets\" )\n",
        "values=[]\n",
        "for sets in data_sets_count:\n",
        "    print(\" Sets : {}   Count :   {}\".format(sets, data_sets_count[sets]))\n",
        "    if data_sets_count[sets] <window_size:\n",
        "        pass\n",
        "#         del data_sets_count[sets]\n",
        "    else:\n",
        "        values.append(data_sets_count[sets])\n",
        "#         print(\" Sets : {}   Count :   {}\".format(sets, data_sets_count[sets]))\n",
        "        "
      ],
      "execution_count": 10,
      "outputs": [
        {
          "output_type": "stream",
          "text": [
            "The number of sample points in each sets\n",
            " Sets : 1   Count :   85\n",
            " Sets : 2   Count :   36\n",
            " Sets : 3   Count :   60\n",
            " Sets : 4   Count :   72\n",
            " Sets : 5   Count :   22\n",
            " Sets : 6   Count :   49\n",
            " Sets : 7   Count :   31\n",
            " Sets : 8   Count :   26\n",
            " Sets : 9   Count :   115\n",
            " Sets : 10   Count :   47\n",
            " Sets : 11   Count :   57\n",
            " Sets : 12   Count :   39\n",
            " Sets : 13   Count :   32\n",
            " Sets : 14   Count :   13\n",
            " Sets : 15   Count :   12\n",
            " Sets : 16   Count :   15\n",
            " Sets : 17   Count :   13\n",
            " Sets : 18   Count :   20\n",
            " Sets : 19   Count :   57\n",
            " Sets : 20   Count :   73\n",
            " Sets : 21   Count :   25\n",
            " Sets : 22   Count :   115\n",
            " Sets : 23   Count :   67\n",
            " Sets : 24   Count :   89\n",
            " Sets : 25   Count :   19\n",
            " Sets : 26   Count :   132\n",
            " Sets : 27   Count :   111\n",
            " Sets : 28   Count :   96\n",
            " Sets : 29   Count :   96\n",
            " Sets : 30   Count :   15\n",
            " Sets : 31   Count :   22\n",
            " Sets : 32   Count :   83\n",
            " Sets : 33   Count :   77\n",
            " Sets : 34   Count :   99\n",
            " Sets : 35   Count :   160\n",
            " Sets : 36   Count :   32\n",
            " Sets : 37   Count :   19\n",
            " Sets : 38   Count :   23\n",
            " Sets : 39   Count :   35\n",
            " Sets : 40   Count :   61\n",
            " Sets : 41   Count :   153\n",
            " Sets : 42   Count :   96\n",
            " Sets : 43   Count :   33\n",
            " Sets : 44   Count :   23\n",
            " Sets : 45   Count :   75\n",
            " Sets : 46   Count :   96\n",
            " Sets : 47   Count :   46\n",
            " Sets : 48   Count :   78\n",
            " Sets : 49   Count :   61\n"
          ],
          "name": "stdout"
        }
      ]
    },
    {
      "cell_type": "code",
      "metadata": {
        "id": "WVXdBXfzaUjX",
        "colab": {
          "base_uri": "https://localhost:8080/",
          "height": 265
        },
        "outputId": "7acef8d0-f35c-4ef0-a38d-e5e9573e559a"
      },
      "source": [
        "plt.hist(values ,bins=10)\n",
        "plt.show()"
      ],
      "execution_count": 11,
      "outputs": [
        {
          "output_type": "display_data",
          "data": {
            "image/png": "[encoded data removed]",
            "text/plain": [
              "<Figure size 432x288 with 1 Axes>"
            ]
          },
          "metadata": {
            "tags": [],
            "needs_background": "light"
          }
        }
      ]
    },
    {
      "cell_type": "markdown",
      "metadata": {
        "id": "ZZKiCIljaUjY"
      },
      "source": [
        "# Data Pre-Processing"
      ]
    },
    {
      "cell_type": "code",
      "metadata": {
        "id": "KYbtPnY2aUjZ"
      },
      "source": [
        "\n",
        "files =os.listdir(\"data_sets/\")\n",
        "input_matrix=[]\n",
        "output_value=[]\n",
        "max_value=max(df[\"GlucoseValue\"])# use to normalize the input and output when training \n",
        "for file in files:\n",
        "    df_new= pd.read_csv(\"data_sets/\"+file)\n",
        "    for i in range(len(df_new[\"GlucoseValue\"])-window_size-1):\n",
        "        input_matrix.append(df_new[\"GlucoseValue\"][i:i+window_size].to_list())\n",
        "#       \n",
        "        output_value.append(df_new[\"GlucoseValue\"][i+window_size+1])\n",
        "#         break\n",
        "def reshape(input_tensor):\n",
        "    input_tensor=tf.convert_to_tensor(input_tensor)\n",
        "    batch_shape,window_size= input_tensor.shape\n",
        "    return tf.reshape(input_tensor, (batch_shape,1,window_size))/max_value\n"
      ],
      "execution_count": 15,
      "outputs": []
    },
    {
      "cell_type": "markdown",
      "metadata": {
        "id": "B9x3l_WwaUjZ"
      },
      "source": [
        "Checkpoint2:Display the dimensions for your pre-processed data and explain how it the window size is incorporated into this structure."
      ]
    },
    {
      "cell_type": "code",
      "metadata": {
        "id": "n2EoZg_maUja",
        "colab": {
          "base_uri": "https://localhost:8080/"
        },
        "outputId": "4a9d7280-fcf9-4d76-e007-a580da4276e6"
      },
      "source": [
        "lstm =tf.keras.layers.LSTM(1)\n",
        "ts=np.random.rand(10,4,4)\n",
        "lstm(ts)"
      ],
      "execution_count": 20,
      "outputs": [
        {
          "output_type": "execute_result",
          "data": {
            "text/plain": [
              "<tf.Tensor: shape=(10, 1), dtype=float32, numpy=\n",
              "array([[0.24771798],\n",
              "       [0.22311133],\n",
              "       [0.36030805],\n",
              "       [0.22512025],\n",
              "       [0.3332631 ],\n",
              "       [0.2216226 ],\n",
              "       [0.37777004],\n",
              "       [0.18971881],\n",
              "       [0.22563726],\n",
              "       [0.3396676 ]], dtype=float32)>"
            ]
          },
          "metadata": {
            "tags": []
          },
          "execution_count": 20
        }
      ]
    },
    {
      "cell_type": "code",
      "metadata": {
        "id": "EgpOmTR8aUjb"
      },
      "source": [
        "input_train, input_test, output_train, output_test=train_test_split(input_matrix, output_value, test_size=0.20,shuffle=False)\n"
      ],
      "execution_count": 51,
      "outputs": []
    },
    {
      "cell_type": "code",
      "metadata": {
        "id": "kRt-sZtDxzAl"
      },
      "source": [
        "input_train=reshape(input_train)\n",
        "input_test=reshape(input_test)\n",
        "output_train=tf.convert_to_tensor(output_train)/max_value\n",
        "output_test=tf.convert_to_tensor(output_test)/max_value"
      ],
      "execution_count": 52,
      "outputs": []
    },
    {
      "cell_type": "code",
      "metadata": {
        "id": "rtWXHGznaUjb",
        "colab": {
          "base_uri": "https://localhost:8080/"
        },
        "outputId": "a8151e49-5432-46a5-9fff-204f6f11e876"
      },
      "source": [
        "datasets_train=tf.data.Dataset.from_tensor_slices((input_train, output_train))\n",
        "datasets_test=tf.data.Dataset.from_tensor_slices((input_test, output_test)).batch(1)\n",
        "datasets_input_train=tf.data.Dataset.from_tensor_slices(input_train).batch(40)\n",
        "datasets_output_train=tf.data.Dataset.from_tensor_slices(output_train).batch(40)\n",
        "data_batched= datasets_train.batch(40)\n",
        "for i,j in data_batched:\n",
        "    print(i.shape)\n",
        "    print(j)\n",
        "    break"
      ],
      "execution_count": 53,
      "outputs": [
        {
          "output_type": "stream",
          "text": [
            "(40, 1, 10)\n",
            "tf.Tensor(\n",
            "[0.6758794  0.68090452 0.69095477 0.6959799  0.6959799  0.69849246\n",
            " 0.69849246 0.69849246 0.70100503 0.70351759 0.70100503 0.6959799\n",
            " 0.69346734 0.27889447 0.29396985 0.30653266 0.31658291 0.32914573\n",
            " 0.34170854 0.34673367 0.35427136 0.36180905 0.36934673 0.38693467\n",
            " 0.40452261 0.4120603  0.41959799 0.42964824 0.44472362 0.45226131\n",
            " 0.45477387 0.45226131 0.45477387 0.44221106 0.43969849 0.42462312\n",
            " 0.41457286 0.40452261 0.39698492 0.3919598 ], shape=(40,), dtype=float64)\n"
          ],
          "name": "stdout"
        }
      ]
    },
    {
      "cell_type": "markdown",
      "metadata": {
        "id": "JOiwfkbF37AQ"
      },
      "source": [
        "Explanation ： From the above you can see that the input shape is the form of (Batch_size, 1 input_dimension). This is because LSTM cells takes in 3 dimensional input， with the first dimension is the batch_size. and the second dimension will be used as 1 as our input has only one dimension. The Last dimension is the size of our input. "
      ]
    },
    {
      "cell_type": "markdown",
      "metadata": {
        "id": "3crQttv_aUjd"
      },
      "source": [
        "# Modelling And training"
      ]
    },
    {
      "cell_type": "markdown",
      "metadata": {
        "id": "E4aiofD3aUjd"
      },
      "source": [
        "Checkpoint 4: Select the correct Loss Function and optimiser and explain the reason for your choice"
      ]
    },
    {
      "cell_type": "markdown",
      "metadata": {
        "id": "fhurWFv630ap"
      },
      "source": [
        "The loss function used Mean square Error. This loss function is able to penalize the the difference betweent the predicted and actual value by measuring the distance in between them.  It is less sensitive to outliers and erros in the data   \n",
        "\n",
        "The optimizer used is Adam, Adam is normalized optimzier that use momentum and do elementwise optimization. This allows the optimizer to converge faster and more robust. "
      ]
    },
    {
      "cell_type": "code",
      "metadata": {
        "id": "2w1sTNyfaUjd"
      },
      "source": [
        "model= Sequential([\n",
        "    tf.keras.Input(shape=(1,window_size)),\n",
        "    tf.keras.layers.LSTM(1),\n",
        "    \n",
        "])\n",
        "model.compile(optimizer=tf.keras.optimizers.Adam(learning_rate=0.1),\n",
        "              loss=tf.keras.losses.MeanSquaredError(),\n",
        "              metrics=['mse'])"
      ],
      "execution_count": 87,
      "outputs": []
    },
    {
      "cell_type": "markdown",
      "metadata": {
        "id": "QZHzmbcuaUje"
      },
      "source": [
        "Checkpoint 5: Graph and display the training loss of the model."
      ]
    },
    {
      "cell_type": "code",
      "metadata": {
        "id": "pzouaQhyaUje",
        "colab": {
          "base_uri": "https://localhost:8080/"
        },
        "outputId": "28822264-fc9f-4d35-c348-dad487c233c8"
      },
      "source": [
        "# model.build(input_shape=(3179,1,4))\n",
        "model.summary()"
      ],
      "execution_count": 88,
      "outputs": [
        {
          "output_type": "stream",
          "text": [
            "Model: \"sequential_9\"\n",
            "_________________________________________________________________\n",
            "Layer (type)                 Output Shape              Param #   \n",
            "=================================================================\n",
            "lstm_12 (LSTM)               (None, 1)                 48        \n",
            "=================================================================\n",
            "Total params: 48\n",
            "Trainable params: 48\n",
            "Non-trainable params: 0\n",
            "_________________________________________________________________\n"
          ],
          "name": "stdout"
        }
      ]
    },
    {
      "cell_type": "code",
      "metadata": {
        "id": "3GZlChL_aUje",
        "colab": {
          "base_uri": "https://localhost:8080/"
        },
        "outputId": "09d4f92d-e10a-44aa-ad1b-063e5e00a866"
      },
      "source": [
        "history1 =model.fit(data_batched, epochs=30)"
      ],
      "execution_count": 89,
      "outputs": [
        {
          "output_type": "stream",
          "text": [
            "Epoch 1/30\n",
            "63/63 [==============================] - 2s 2ms/step - loss: 0.0209 - mse: 0.0209\n",
            "Epoch 2/30\n",
            "63/63 [==============================] - 0s 2ms/step - loss: 0.0031 - mse: 0.0031\n",
            "Epoch 3/30\n",
            "63/63 [==============================] - 0s 2ms/step - loss: 0.0023 - mse: 0.0023\n",
            "Epoch 4/30\n",
            "63/63 [==============================] - 0s 2ms/step - loss: 0.0019 - mse: 0.0019\n",
            "Epoch 5/30\n",
            "63/63 [==============================] - 0s 2ms/step - loss: 0.0016 - mse: 0.0016\n",
            "Epoch 6/30\n",
            "63/63 [==============================] - 0s 1ms/step - loss: 0.0015 - mse: 0.0015\n",
            "Epoch 7/30\n",
            "63/63 [==============================] - 0s 2ms/step - loss: 0.0014 - mse: 0.0014\n",
            "Epoch 8/30\n",
            "63/63 [==============================] - 0s 2ms/step - loss: 0.0013 - mse: 0.0013\n",
            "Epoch 9/30\n",
            "63/63 [==============================] - 0s 1ms/step - loss: 0.0013 - mse: 0.0013\n",
            "Epoch 10/30\n",
            "63/63 [==============================] - 0s 2ms/step - loss: 0.0012 - mse: 0.0012\n",
            "Epoch 11/30\n",
            "63/63 [==============================] - 0s 1ms/step - loss: 0.0012 - mse: 0.0012\n",
            "Epoch 12/30\n",
            "63/63 [==============================] - 0s 1ms/step - loss: 0.0012 - mse: 0.0012\n",
            "Epoch 13/30\n",
            "63/63 [==============================] - 0s 2ms/step - loss: 0.0012 - mse: 0.0012\n",
            "Epoch 14/30\n",
            "63/63 [==============================] - 0s 2ms/step - loss: 0.0012 - mse: 0.0012\n",
            "Epoch 15/30\n",
            "63/63 [==============================] - 0s 1ms/step - loss: 0.0012 - mse: 0.0012\n",
            "Epoch 16/30\n",
            "63/63 [==============================] - 0s 2ms/step - loss: 0.0012 - mse: 0.0012\n",
            "Epoch 17/30\n",
            "63/63 [==============================] - 0s 1ms/step - loss: 0.0012 - mse: 0.0012\n",
            "Epoch 18/30\n",
            "63/63 [==============================] - 0s 1ms/step - loss: 0.0012 - mse: 0.0012\n",
            "Epoch 19/30\n",
            "63/63 [==============================] - 0s 2ms/step - loss: 0.0012 - mse: 0.0012\n",
            "Epoch 20/30\n",
            "63/63 [==============================] - 0s 2ms/step - loss: 0.0012 - mse: 0.0012\n",
            "Epoch 21/30\n",
            "63/63 [==============================] - 0s 1ms/step - loss: 0.0012 - mse: 0.0012\n",
            "Epoch 22/30\n",
            "63/63 [==============================] - 0s 2ms/step - loss: 0.0012 - mse: 0.0012\n",
            "Epoch 23/30\n",
            "63/63 [==============================] - 0s 1ms/step - loss: 0.0012 - mse: 0.0012\n",
            "Epoch 24/30\n",
            "63/63 [==============================] - 0s 1ms/step - loss: 0.0012 - mse: 0.0012\n",
            "Epoch 25/30\n",
            "63/63 [==============================] - 0s 1ms/step - loss: 0.0012 - mse: 0.0012\n",
            "Epoch 26/30\n",
            "63/63 [==============================] - 0s 2ms/step - loss: 0.0012 - mse: 0.0012\n",
            "Epoch 27/30\n",
            "63/63 [==============================] - 0s 2ms/step - loss: 0.0012 - mse: 0.0012\n",
            "Epoch 28/30\n",
            "63/63 [==============================] - 0s 2ms/step - loss: 0.0012 - mse: 0.0012\n",
            "Epoch 29/30\n",
            "63/63 [==============================] - 0s 2ms/step - loss: 0.0012 - mse: 0.0012\n",
            "Epoch 30/30\n",
            "63/63 [==============================] - 0s 2ms/step - loss: 0.0012 - mse: 0.0012\n"
          ],
          "name": "stdout"
        }
      ]
    },
    {
      "cell_type": "markdown",
      "metadata": {
        "id": "AB03U89KaUjg"
      },
      "source": [
        "# Validation"
      ]
    },
    {
      "cell_type": "markdown",
      "metadata": {
        "id": "NcQxa88HaUjh"
      },
      "source": [
        "Checkpoint 6: Graph the remaining instances and plot them (Provide the\n",
        "true data and the validated data on the same graph), display the mean loss for\n",
        "each of the instance."
      ]
    },
    {
      "cell_type": "code",
      "metadata": {
        "id": "O7vgLkMEaUjf"
      },
      "source": [
        "actual=[]\n",
        "pred=[]\n",
        "for i,j in datasets_test:    \n",
        "    predict = model(i)\n",
        "    actual.append(j[0]*max_value)\n",
        "    pred.append(predict[0][0]*max_value)   "
      ],
      "execution_count": 82,
      "outputs": []
    },
    {
      "cell_type": "code",
      "metadata": {
        "colab": {
          "base_uri": "https://localhost:8080/",
          "height": 265
        },
        "id": "Rto9kQ8BUG27",
        "outputId": "4c257371-71cc-45ed-f282-6f219f3bc262"
      },
      "source": [
        "plt.plot(actual, label=\"Actual\")\n",
        "plt.plot(pred, label=\"Predicted\")\n",
        "plt.ylabel(\"Glucose Value\")\n",
        "plt.legend()\n",
        "plt.show()"
      ],
      "execution_count": 83,
      "outputs": [
        {
          "output_type": "display_data",
          "data": {
            "image/png": "[encoded data removed]",
            "text/plain": [
              "<Figure size 432x288 with 1 Axes>"
            ]
          },
          "metadata": {
            "tags": [],
            "needs_background": "light"
          }
        }
      ]
    },
    {
      "cell_type": "code",
      "metadata": {
        "id": "tvW4YlnTaUjh",
        "colab": {
          "base_uri": "https://localhost:8080/"
        },
        "outputId": "27de62db-ff4c-4dd0-ad39-b87567ffabfd"
      },
      "source": [
        "history1.history[\"loss\"]"
      ],
      "execution_count": 66,
      "outputs": [
        {
          "output_type": "execute_result",
          "data": {
            "text/plain": [
              "[0.009894848801195621,\n",
              " 0.0038284657057374716,\n",
              " 0.0032842871733009815,\n",
              " 0.0028943198267370462,\n",
              " 0.002539320383220911,\n",
              " 0.0022312321234494448,\n",
              " 0.002001112559810281,\n",
              " 0.0018548014340922236,\n",
              " 0.0017704892670735717,\n",
              " 0.0017162153962999582,\n",
              " 0.0016744459280744195,\n",
              " 0.001638185465708375,\n",
              " 0.0016050785779953003,\n",
              " 0.0015744332922622561,\n",
              " 0.0015460611321032047,\n",
              " 0.0015198946930468082,\n",
              " 0.001495877280831337,\n",
              " 0.001473930082283914,\n",
              " 0.0014539550757035613,\n",
              " 0.0014358361950144172,\n",
              " 0.001419442007318139,\n",
              " 0.0014046349097043276,\n",
              " 0.0013912725262343884,\n",
              " 0.0013792142271995544,\n",
              " 0.0013683221768587828,\n",
              " 0.0013584691332653165,\n",
              " 0.0013495334424078465,\n",
              " 0.001341407187283039,\n",
              " 0.0013339935103431344,\n",
              " 0.0013272041687741876]"
            ]
          },
          "metadata": {
            "tags": []
          },
          "execution_count": 66
        }
      ]
    },
    {
      "cell_type": "markdown",
      "metadata": {
        "id": "FXAypuVZaUji"
      },
      "source": [
        "# Optimisation"
      ]
    },
    {
      "cell_type": "markdown",
      "metadata": {
        "id": "cB25H5w5aUjj"
      },
      "source": [
        "Checkpoint 7: Write a short report presenting your analysis on the optimal hyper-parameter of choice. You may include the necessary graphs or printout to explain your optimal hyper-parameter of choice."
      ]
    },
    {
      "cell_type": "markdown",
      "metadata": {
        "id": "ZEz_5QfE0x4G"
      },
      "source": [
        "In the hyper parameter tuning, I have choosen normalized the input by its maximum value From the experiment below, you can see that without normalization, the loss is not able to converge, normalization is able to constraint the input within the range of 0 to 1.  \\\\\n",
        " The allows better convert of the the losses. I choose the learning rate to be started at 0.01. This allows the model to pick up the momentum in learning very quickly "
      ]
    },
    {
      "cell_type": "code",
      "metadata": {
        "id": "6VbkWCx3zWgS"
      },
      "source": [
        "model2= Sequential([\n",
        "    tf.keras.Input(shape=(1,window_size)),\n",
        "    tf.keras.layers.LSTM(1),\n",
        "    \n",
        "])\n",
        "model2.compile(optimizer=tf.keras.optimizers.Adam(learning_rate=0.01),\n",
        "              loss=tf.keras.losses.MeanSquaredError(),\n",
        "              metrics=['mse'])"
      ],
      "execution_count": 90,
      "outputs": []
    },
    {
      "cell_type": "code",
      "metadata": {
        "id": "xXE_wQbDaUjk",
        "colab": {
          "base_uri": "https://localhost:8080/"
        },
        "outputId": "389dfb02-a963-4e2d-9c41-659ff362497b"
      },
      "source": [
        "history2 =model2.fit(data_batched, epochs=30)"
      ],
      "execution_count": 85,
      "outputs": [
        {
          "output_type": "stream",
          "text": [
            "Epoch 1/30\n",
            "63/63 [==============================] - 2s 1ms/step - loss: 0.1785 - mse: 0.1785\n",
            "Epoch 2/30\n",
            "63/63 [==============================] - 0s 1ms/step - loss: 0.0272 - mse: 0.0272\n",
            "Epoch 3/30\n",
            "63/63 [==============================] - 0s 2ms/step - loss: 0.0070 - mse: 0.0070\n",
            "Epoch 4/30\n",
            "63/63 [==============================] - 0s 1ms/step - loss: 0.0056 - mse: 0.0056\n",
            "Epoch 5/30\n",
            "63/63 [==============================] - 0s 2ms/step - loss: 0.0045 - mse: 0.0045\n",
            "Epoch 6/30\n",
            "63/63 [==============================] - 0s 1ms/step - loss: 0.0039 - mse: 0.0039\n",
            "Epoch 7/30\n",
            "63/63 [==============================] - 0s 1ms/step - loss: 0.0034 - mse: 0.0034\n",
            "Epoch 8/30\n",
            "63/63 [==============================] - 0s 1ms/step - loss: 0.0031 - mse: 0.0031\n",
            "Epoch 9/30\n",
            "63/63 [==============================] - 0s 1ms/step - loss: 0.0028 - mse: 0.0028\n",
            "Epoch 10/30\n",
            "63/63 [==============================] - 0s 2ms/step - loss: 0.0026 - mse: 0.0026\n",
            "Epoch 11/30\n",
            "63/63 [==============================] - 0s 1ms/step - loss: 0.0024 - mse: 0.0024\n",
            "Epoch 12/30\n",
            "63/63 [==============================] - 0s 1ms/step - loss: 0.0022 - mse: 0.0022\n",
            "Epoch 13/30\n",
            "63/63 [==============================] - 0s 2ms/step - loss: 0.0020 - mse: 0.0020\n",
            "Epoch 14/30\n",
            "63/63 [==============================] - 0s 1ms/step - loss: 0.0019 - mse: 0.0019\n",
            "Epoch 15/30\n",
            "63/63 [==============================] - 0s 2ms/step - loss: 0.0018 - mse: 0.0018\n",
            "Epoch 16/30\n",
            "63/63 [==============================] - 0s 2ms/step - loss: 0.0017 - mse: 0.0017\n",
            "Epoch 17/30\n",
            "63/63 [==============================] - 0s 2ms/step - loss: 0.0017 - mse: 0.0017\n",
            "Epoch 18/30\n",
            "63/63 [==============================] - 0s 2ms/step - loss: 0.0016 - mse: 0.0016\n",
            "Epoch 19/30\n",
            "63/63 [==============================] - 0s 2ms/step - loss: 0.0016 - mse: 0.0016\n",
            "Epoch 20/30\n",
            "63/63 [==============================] - 0s 1ms/step - loss: 0.0015 - mse: 0.0015\n",
            "Epoch 21/30\n",
            "63/63 [==============================] - 0s 2ms/step - loss: 0.0015 - mse: 0.0015\n",
            "Epoch 22/30\n",
            "63/63 [==============================] - 0s 1ms/step - loss: 0.0015 - mse: 0.0015\n",
            "Epoch 23/30\n",
            "63/63 [==============================] - 0s 2ms/step - loss: 0.0015 - mse: 0.0015\n",
            "Epoch 24/30\n",
            "63/63 [==============================] - 0s 1ms/step - loss: 0.0015 - mse: 0.0015\n",
            "Epoch 25/30\n",
            "63/63 [==============================] - 0s 1ms/step - loss: 0.0014 - mse: 0.0014\n",
            "Epoch 26/30\n",
            "63/63 [==============================] - 0s 2ms/step - loss: 0.0014 - mse: 0.0014\n",
            "Epoch 27/30\n",
            "63/63 [==============================] - 0s 2ms/step - loss: 0.0014 - mse: 0.0014\n",
            "Epoch 28/30\n",
            "63/63 [==============================] - 0s 1ms/step - loss: 0.0014 - mse: 0.0014\n",
            "Epoch 29/30\n",
            "63/63 [==============================] - 0s 2ms/step - loss: 0.0014 - mse: 0.0014\n",
            "Epoch 30/30\n",
            "63/63 [==============================] - 0s 2ms/step - loss: 0.0014 - mse: 0.0014\n"
          ],
          "name": "stdout"
        }
      ]
    },
    {
      "cell_type": "code",
      "metadata": {
        "colab": {
          "base_uri": "https://localhost:8080/",
          "height": 265
        },
        "id": "nBwfCU8Q1ZQT",
        "outputId": "df361eb8-9f58-4f24-8e4c-d91b183b276b"
      },
      "source": [
        "plt.plot(history1.history[\"loss\"], label=\"Model1\")\n",
        "plt.plot(history2.history[\"loss\"], label=\"Model2\")\n",
        "plt.legend()\n",
        "plt.ylabel(\"loss\")\n",
        "plt.show()"
      ],
      "execution_count": 91,
      "outputs": [
        {
          "output_type": "display_data",
          "data": {
            "image/png": "[encoded data removed]",
            "text/plain": [
              "<Figure size 432x288 with 1 Axes>"
            ]
          },
          "metadata": {
            "tags": [],
            "needs_background": "light"
          }
        }
      ]
    },
    {
      "cell_type": "code",
      "metadata": {
        "id": "SfcSL8Y52Cqg"
      },
      "source": [
        "input_train, input_test, output_train, output_test=train_test_split(input_matrix, output_value, test_size=0.20,shuffle=False)\n",
        "max_value=1\n",
        "input_train=reshape(input_train)\n",
        "input_test=reshape(input_test)\n",
        "output_train=tf.convert_to_tensor(output_train)/max_value\n",
        "output_test=tf.convert_to_tensor(output_test)/max_value\n",
        "datasets_train_t=tf.data.Dataset.from_tensor_slices((input_train, output_train)).batch(40)\n",
        "datasets_test_t=tf.data.Dataset.from_tensor_slices((input_test, output_test)).batch(1)"
      ],
      "execution_count": 100,
      "outputs": []
    },
    {
      "cell_type": "code",
      "metadata": {
        "id": "6KRWkhQx2-HU"
      },
      "source": [
        "model3= Sequential([\n",
        "    tf.keras.Input(shape=(1,window_size)),\n",
        "    tf.keras.layers.LSTM(1),\n",
        "    \n",
        "])\n",
        "model3.compile(optimizer=tf.keras.optimizers.Adam(learning_rate=0.01),\n",
        "              loss=tf.keras.losses.MeanSquaredError(),\n",
        "              metrics=['mse'])"
      ],
      "execution_count": 103,
      "outputs": []
    },
    {
      "cell_type": "code",
      "metadata": {
        "colab": {
          "base_uri": "https://localhost:8080/"
        },
        "id": "P6av7f7q3LnW",
        "outputId": "f6375144-e09e-493d-fda3-e36aada0adfe"
      },
      "source": [
        "history3 =model3.fit(datasets_train, epochs=30)"
      ],
      "execution_count": 104,
      "outputs": [
        {
          "output_type": "stream",
          "text": [
            "Epoch 1/30\n",
            "63/63 [==============================] - 2s 1ms/step - loss: 21101.0568 - mse: 21101.0568\n",
            "Epoch 2/30\n",
            "63/63 [==============================] - 0s 1ms/step - loss: 21101.0568 - mse: 21101.0568\n",
            "Epoch 3/30\n",
            "63/63 [==============================] - 0s 2ms/step - loss: 21101.0568 - mse: 21101.0568\n",
            "Epoch 4/30\n",
            "63/63 [==============================] - 0s 1ms/step - loss: 21101.0568 - mse: 21101.0568\n",
            "Epoch 5/30\n",
            "63/63 [==============================] - 0s 2ms/step - loss: 21101.0568 - mse: 21101.0568\n",
            "Epoch 6/30\n",
            "63/63 [==============================] - 0s 1ms/step - loss: 21101.0568 - mse: 21101.0568\n",
            "Epoch 7/30\n",
            "63/63 [==============================] - 0s 1ms/step - loss: 21101.0568 - mse: 21101.0568\n",
            "Epoch 8/30\n",
            "63/63 [==============================] - 0s 2ms/step - loss: 21101.0568 - mse: 21101.0568\n",
            "Epoch 9/30\n",
            "63/63 [==============================] - 0s 2ms/step - loss: 21101.0568 - mse: 21101.0568\n",
            "Epoch 10/30\n",
            "63/63 [==============================] - 0s 2ms/step - loss: 21101.0568 - mse: 21101.0568\n",
            "Epoch 11/30\n",
            "63/63 [==============================] - 0s 1ms/step - loss: 21101.0568 - mse: 21101.0568\n",
            "Epoch 12/30\n",
            "63/63 [==============================] - 0s 2ms/step - loss: 21101.0568 - mse: 21101.0568\n",
            "Epoch 13/30\n",
            "63/63 [==============================] - 0s 2ms/step - loss: 21101.0568 - mse: 21101.0568\n",
            "Epoch 14/30\n",
            "63/63 [==============================] - 0s 1ms/step - loss: 21101.0568 - mse: 21101.0568\n",
            "Epoch 15/30\n",
            "63/63 [==============================] - 0s 1ms/step - loss: 21101.0568 - mse: 21101.0568\n",
            "Epoch 16/30\n",
            "63/63 [==============================] - 0s 2ms/step - loss: 21101.0568 - mse: 21101.0568\n",
            "Epoch 17/30\n",
            "63/63 [==============================] - 0s 1ms/step - loss: 21101.0568 - mse: 21101.0568\n",
            "Epoch 18/30\n",
            "63/63 [==============================] - 0s 2ms/step - loss: 21101.0568 - mse: 21101.0568\n",
            "Epoch 19/30\n",
            "63/63 [==============================] - 0s 1ms/step - loss: 21101.0568 - mse: 21101.0568\n",
            "Epoch 20/30\n",
            "63/63 [==============================] - 0s 2ms/step - loss: 21101.0568 - mse: 21101.0568\n",
            "Epoch 21/30\n",
            "63/63 [==============================] - 0s 2ms/step - loss: 21101.0568 - mse: 21101.0568\n",
            "Epoch 22/30\n",
            "63/63 [==============================] - 0s 2ms/step - loss: 21101.0568 - mse: 21101.0568\n",
            "Epoch 23/30\n",
            "63/63 [==============================] - 0s 2ms/step - loss: 21101.0568 - mse: 21101.0568\n",
            "Epoch 24/30\n",
            "63/63 [==============================] - 0s 2ms/step - loss: 21101.0568 - mse: 21101.0568\n",
            "Epoch 25/30\n",
            "63/63 [==============================] - 0s 2ms/step - loss: 21101.0568 - mse: 21101.0568\n",
            "Epoch 26/30\n",
            "63/63 [==============================] - 0s 1ms/step - loss: 21101.0568 - mse: 21101.0568\n",
            "Epoch 27/30\n",
            "63/63 [==============================] - 0s 2ms/step - loss: 21101.0568 - mse: 21101.0568\n",
            "Epoch 28/30\n",
            "63/63 [==============================] - 0s 2ms/step - loss: 21101.0568 - mse: 21101.0568\n",
            "Epoch 29/30\n",
            "63/63 [==============================] - 0s 2ms/step - loss: 21101.0568 - mse: 21101.0568\n",
            "Epoch 30/30\n",
            "63/63 [==============================] - 0s 2ms/step - loss: 21101.0568 - mse: 21101.0568\n"
          ],
          "name": "stdout"
        }
      ]
    },
    {
      "cell_type": "code",
      "metadata": {
        "id": "jqtACLZz211c"
      },
      "source": [
        "actual=[]\n",
        "pred=[]\n",
        "for i,j in datasets_test:    \n",
        "    predict = model(i)\n",
        "    actual.append(j[0]*max_value)\n",
        "    pred.append(predict[0][0]*max_value)   "
      ],
      "execution_count": 105,
      "outputs": []
    },
    {
      "cell_type": "code",
      "metadata": {
        "colab": {
          "base_uri": "https://localhost:8080/",
          "height": 265
        },
        "id": "2IOwe1r127fF",
        "outputId": "f4f50447-2e94-4d52-c465-5024c3b7305d"
      },
      "source": [
        "plt.plot(actual, label=\"Actual\")\n",
        "plt.plot(pred, label=\"Predicted\")\n",
        "plt.ylabel(\"Glucose Value\")\n",
        "plt.legend()\n",
        "plt.show()"
      ],
      "execution_count": 106,
      "outputs": [
        {
          "output_type": "display_data",
          "data": {
            "image/png": "[encoded data removed]",
            "text/plain": [
              "<Figure size 432x288 with 1 Axes>"
            ]
          },
          "metadata": {
            "tags": [],
            "needs_background": "light"
          }
        }
      ]
    }
  ]
}